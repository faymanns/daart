{
 "cells": [
  {
   "cell_type": "markdown",
   "metadata": {},
   "source": [
    "## daart training example\n",
    "This notebook demonstrates how to create a daart model (as well as the data generator), train the model, then assess its performance.\n",
    "\n",
    "The python script located at `daart/examples/fit_models.py` generalizes these steps and allows users to fit multiple models from the command line more easily. The script utilizes yaml configuration files to set hyperparameters; examples can be found in the directory `daart/configs`."
   ]
  },
  {
   "cell_type": "code",
   "execution_count": 1,
   "metadata": {},
   "outputs": [],
   "source": [
    "import matplotlib.pyplot as plt\n",
    "import numpy as np\n",
    "import os\n",
    "\n",
    "from daart.data import DataGenerator\n",
    "from daart.eval import get_precision_recall, plot_training_curves\n",
    "from daart.models import Segmenter\n",
    "from daart.transforms import ZScore"
   ]
  },
  {
   "cell_type": "markdown",
   "metadata": {},
   "source": [
    "### define data paths"
   ]
  },
  {
   "cell_type": "code",
   "execution_count": 2,
   "metadata": {},
   "outputs": [],
   "source": [
    "# choose one experiment for training\n",
    "expt_id = '201016_G23xU1_Fly1_020_coronal'\n",
    "\n",
    "# where data is stored\n",
    "base_dir = os.path.join(os.path.dirname(os.getcwd()), 'my_data')\n",
    "\n",
    "# where model results will be saved\n",
    "model_save_path = os.path.join(os.path.dirname(os.getcwd()), 'results')\n",
    "\n",
    "# DLC markers\n",
    "markers_file = os.path.join(base_dir, 'markers', expt_id + '_labeled.npy')\n",
    "# heuristic labels\n",
    "labels_file = os.path.join(base_dir, 'labels-heuristic', expt_id + '_labels.pkl')\n",
    "# hand labels\n",
    "hand_labels_file = os.path.join(base_dir, 'labels-hand', expt_id + '_labels.csv')"
   ]
  },
  {
   "cell_type": "markdown",
   "metadata": {},
   "source": [
    "### build data generator"
   ]
  },
  {
   "cell_type": "code",
   "execution_count": 3,
   "metadata": {},
   "outputs": [
    {
     "name": "stdout",
     "output_type": "stream",
     "text": [
      "Generator contains 1 SingleDataset objects:\n",
      "201016_G23xU1_Fly1_020_coronal\n",
      "    signals: ['markers', 'labels_weak', 'labels_strong']\n",
      "    transforms: OrderedDict([('markers', ZScore()), ('labels_weak', None), ('labels_strong', None)])\n",
      "    paths: OrderedDict([('markers', '/home/aymanns/daart/my_data/markers/201016_G23xU1_Fly1_020_coronal_labeled.npy'), ('labels_weak', '/home/aymanns/daart/my_data/labels-heuristic/201016_G23xU1_Fly1_020_coronal_labels.pkl'), ('labels_strong', '/home/aymanns/daart/my_data/labels-hand/201016_G23xU1_Fly1_020_coronal_labels.csv')])\n",
      "\n"
     ]
    }
   ],
   "source": [
    "# define data generator signals\n",
    "signals = ['markers', 'labels_weak', 'labels_strong']\n",
    "transforms = [ZScore(), None, None]\n",
    "paths = [markers_file, labels_file, hand_labels_file]\n",
    "device = 'cpu'  # 'cpu' | 'cuda'\n",
    "\n",
    "trial_splits = {\n",
    "    'train_tr': 9,\n",
    "    'val_tr': 1,\n",
    "    'test_tr': 0,\n",
    "    'gap_tr': 0\n",
    "}\n",
    "\n",
    "# build data generator\n",
    "data_gen = DataGenerator(\n",
    "    [expt_id], [signals], [transforms], [paths], device=device, batch_size=500, \n",
    "    trial_splits=trial_splits)\n",
    "print(data_gen)"
   ]
  },
  {
   "cell_type": "code",
   "execution_count": 4,
   "metadata": {},
   "outputs": [
    {
     "name": "stdout",
     "output_type": "stream",
     "text": [
      "dict_keys(['markers', 'labels_weak', 'labels_strong', 'batch_idx'])\n",
      "\n",
      "tensor([2])\n",
      "torch.Size([1, 500, 72])\n",
      "torch.Size([1, 500])\n",
      "torch.Size([1, 500])\n"
     ]
    }
   ],
   "source": [
    "# see what data generator returns\n",
    "data, dataset = data_gen.next_batch('train')\n",
    "print(data.keys())\n",
    "print()\n",
    "print(data['batch_idx'])\n",
    "print(data['markers'].shape)\n",
    "print(data['labels_weak'].shape)\n",
    "print(data['labels_strong'].shape)"
   ]
  },
  {
   "cell_type": "markdown",
   "metadata": {},
   "source": [
    "### build model"
   ]
  },
  {
   "cell_type": "code",
   "execution_count": 5,
   "metadata": {},
   "outputs": [
    {
     "name": "stdout",
     "output_type": "stream",
     "text": [
      "\n",
      "TCN architecture\n",
      "------------------------\n",
      "Encoder:\n",
      "    0: DilationBlock\n",
      "        0: Conv1d(72, 32, kernel_size=(9,), stride=(1,), padding=(4,))\n",
      "        1: LeakyReLU(negative_slope=0.05)\n",
      "        2: Dropout2d(p=0.2, inplace=False)\n",
      "        3: Conv1d(32, 32, kernel_size=(9,), stride=(1,), padding=(4,))\n",
      "        4: LeakyReLU(negative_slope=0.05)\n",
      "        5: Dropout2d(p=0.2, inplace=False)\n",
      "        6: residual connection\n",
      "        7: LeakyReLU(negative_slope=0.05)\n",
      "\n",
      "    1: DilationBlock\n",
      "        0: Conv1d(32, 32, kernel_size=(9,), stride=(1,), padding=(8,), dilation=(2,))\n",
      "        1: LeakyReLU(negative_slope=0.05)\n",
      "        2: Dropout2d(p=0.2, inplace=False)\n",
      "        3: Conv1d(32, 32, kernel_size=(9,), stride=(1,), padding=(8,), dilation=(2,))\n",
      "        4: LeakyReLU(negative_slope=0.05)\n",
      "        5: Dropout2d(p=0.2, inplace=False)\n",
      "        6: residual connection\n",
      "        7: LeakyReLU(negative_slope=0.05)\n",
      "\n",
      "Classifier:\n",
      "    0: Linear(in_features=32, out_features=5, bias=True)\n",
      "\n",
      "Predictor:\n",
      "    0: DilationBlock\n",
      "        0: Conv1d(32, 32, kernel_size=(9,), stride=(1,), padding=(8,), dilation=(2,))\n",
      "        1: LeakyReLU(negative_slope=0.05)\n",
      "        2: Dropout2d(p=0.2, inplace=False)\n",
      "        3: Conv1d(32, 32, kernel_size=(9,), stride=(1,), padding=(8,), dilation=(2,))\n",
      "        4: LeakyReLU(negative_slope=0.05)\n",
      "        5: Dropout2d(p=0.2, inplace=False)\n",
      "        6: residual connection\n",
      "        7: LeakyReLU(negative_slope=0.05)\n",
      "\n",
      "    1: DilationBlock\n",
      "        0: Conv1d(32, 32, kernel_size=(9,), stride=(1,), padding=(4,))\n",
      "        1: LeakyReLU(negative_slope=0.05)\n",
      "        2: Dropout2d(p=0.2, inplace=False)\n",
      "        3: Conv1d(32, 32, kernel_size=(9,), stride=(1,), padding=(4,))\n",
      "        4: LeakyReLU(negative_slope=0.05)\n",
      "        5: Dropout2d(p=0.2, inplace=False)\n",
      "        6: residual connection\n",
      "        7: LeakyReLU(negative_slope=0.05)\n",
      "\n",
      "    2: Conv1d(32, 72, kernel_size=(1,), stride=(1,))\n",
      "\n"
     ]
    }
   ],
   "source": [
    "# define model params\n",
    "hparams = {\n",
    "    'model_type': 'dtcn',\n",
    "    'input_size': 72,       # dimensionality of markers\n",
    "    'output_size': 5,       # number of classes\n",
    "    'n_hid_layers': 2,      # hidden layers in network\n",
    "    'n_hid_units': 32,      # hidden units per hidden layer\n",
    "    'n_lags': 4,            # half-width of temporal convolution window\n",
    "    'activation': 'lrelu',  # layer nonlinearity\n",
    "    'lambda_weak': 1,       # hyperparam on classifying weak (heuristic) labels\n",
    "    'lambda_strong': 0.5,   # hyperparam on classifying strong (hand) labels\n",
    "    'lambda_pred': 0.5      # hyperparam on one-step-ahead prediction\n",
    "}\n",
    "\n",
    "# build model\n",
    "model = Segmenter(hparams)\n",
    "model.to(device)\n",
    "print(model)"
   ]
  },
  {
   "cell_type": "markdown",
   "metadata": {},
   "source": [
    "### train model"
   ]
  },
  {
   "cell_type": "code",
   "execution_count": 6,
   "metadata": {
    "scrolled": true
   },
   "outputs": [
    {
     "name": "stderr",
     "output_type": "stream",
     "text": [
      "  0%|          | 0/1001 [00:00<?, ?it/s]/home/aymanns/.conda/envs/daart/lib/python3.6/site-packages/torch/autograd/__init__.py:147: UserWarning: CUDA initialization: The NVIDIA driver on your system is too old (found version 10010). Please update your GPU driver by downloading and installing a new version from the URL: http://www.nvidia.com/Download/index.aspx Alternatively, go to: https://pytorch.org to install a PyTorch version that has been compiled with your version of the CUDA driver. (Triggered internally at  /pytorch/c10/cuda/CUDAFunctions.cpp:109.)\n",
      "  allow_unreachable=True, accumulate_grad=True)  # allow_unreachable flag\n",
      "100%|██████████| 1001/1001 [08:41<00:00,  1.92it/s]\n"
     ]
    }
   ],
   "source": [
    "# define training params\n",
    "train_kwargs = {\n",
    "    'learning_rate': 1e-4,       # adam learning rate\n",
    "    'l2_reg': 0,                 # general l2 reg on parameters\n",
    "    'min_epochs': 10,            # minimum number of training epochs\n",
    "    'max_epochs': 1000,          # maximum number of training epochs\n",
    "    'val_check_interval': 1,     # requency with which to log performance on val data\n",
    "    'rng_seed_train': 0,         # control order in which data are served to model\n",
    "    'enable_early_stop': False,  # True to use early stopping; False will use max_epochs\n",
    "    'early_stop_history': 10,    # epochs over which to average early stopping metric\n",
    "    'save_last_model': False,    # true to save out last (as well as best) model\n",
    "}\n",
    "\n",
    "# fit model!\n",
    "model.fit(data_gen, save_path=model_save_path, **train_kwargs)\n",
    "\n",
    "# save training curves\n",
    "plot_training_curves(\n",
    "    os.path.join(model_save_path, 'metrics.csv'), dtype='train', \n",
    "    save_file=os.path.join(model_save_path, 'train_curves'), format='png')\n",
    "plot_training_curves(\n",
    "    os.path.join(model_save_path, 'metrics.csv'), dtype='val', \n",
    "    save_file=os.path.join(model_save_path, 'val_curves'), format='png')"
   ]
  },
  {
   "cell_type": "markdown",
   "metadata": {},
   "source": [
    "### evaluate model"
   ]
  },
  {
   "cell_type": "code",
   "execution_count": 7,
   "metadata": {},
   "outputs": [],
   "source": [
    "# load hand labels\n",
    "from numpy import genfromtxt\n",
    "labels = genfromtxt(hand_labels_file, delimiter=',', dtype=np.int, encoding=None)\n",
    "labels = labels[1:, 1:]  # get rid of headers, etc.\n",
    "states = np.argmax(labels, axis=1)\n",
    "\n",
    "# get model predictions for each time point\n",
    "predictions = model.predict_labels(data_gen)['labels']\n",
    "\n",
    "# compute precision and recall for each behavior type\n",
    "scores = get_precision_recall(\n",
    "    states, np.argmax(np.vstack(predictions[0]), axis=1), background=0)"
   ]
  },
  {
   "cell_type": "markdown",
   "metadata": {},
   "source": [
    "### plot results"
   ]
  },
  {
   "cell_type": "code",
   "execution_count": 8,
   "metadata": {},
   "outputs": [
    {
     "name": "stdout",
     "output_type": "stream",
     "text": [
      "resting 1.0 1.0\n",
      "walking 1.0 1.0\n",
      "grooming 1.0 1.0\n",
      "hindgrooming 1.0 1.0\n"
     ]
    },
    {
     "data": {
      "image/png": "[encoded data removed]",
      "text/plain": [
       "<Figure size 360x360 with 1 Axes>"
      ]
     },
     "metadata": {},
     "output_type": "display_data"
    }
   ],
   "source": [
    "class_names = ['resting', 'walking', 'grooming', 'hindgrooming']\n",
    "n_classes = len(class_names)\n",
    "\n",
    "# get rid of background class\n",
    "if len(scores['precision']) != len(class_names):\n",
    "    precision = scores['precision'][1:]\n",
    "    recall = scores['recall'][1:]\n",
    "else:\n",
    "    precision = scores['precision']\n",
    "    recall = scores['recall']\n",
    "    \n",
    "# plot precision and recall for each class\n",
    "plt.figure(figsize=(5, 5))\n",
    "for n, name in enumerate(class_names):\n",
    "    print(name, precision[n], recall[n])\n",
    "    plt.scatter(precision[n], recall[n], label=name)\n",
    "plt.xlabel('Precision')\n",
    "plt.ylabel('Recall')\n",
    "plt.legend()\n",
    "\n",
    "plt.show()"
   ]
  },
  {
   "cell_type": "code",
   "execution_count": null,
   "metadata": {},
   "outputs": [],
   "source": []
  }
 ],
 "metadata": {
  "kernelspec": {
   "display_name": "Python 3",
   "language": "python",
   "name": "python3"
  },
  "language_info": {
   "codemirror_mode": {
    "name": "ipython",
    "version": 3
   },
   "file_extension": ".py",
   "mimetype": "text/x-python",
   "name": "python",
   "nbconvert_exporter": "python",
   "pygments_lexer": "ipython3",
   "version": "3.6.9"
  }
 },
 "nbformat": 4,
 "nbformat_minor": 2
}
