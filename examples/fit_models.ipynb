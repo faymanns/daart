{
 "cells": [
  {
   "cell_type": "markdown",
   "metadata": {},
   "source": [
    "## daart training example\n",
    "This notebook demonstrates how to create a daart model (as well as the data generator), train the model, then assess its performance.\n",
    "\n",
    "The python script located at `daart/examples/fit_models.py` generalizes these steps and allows users to fit multiple models from the command line more easily. The script utilizes yaml configuration files to set hyperparameters; examples can be found in the directory `daart/configs`."
   ]
  },
  {
   "cell_type": "code",
   "execution_count": null,
   "metadata": {},
   "outputs": [],
   "source": [
    "import matplotlib.pyplot as plt\n",
    "import numpy as np\n",
    "import os\n",
    "\n",
    "from daart.data import DataGenerator\n",
    "from daart.eval import get_precision_recall, plot_training_curves\n",
    "from daart.models import Segmenter\n",
    "from daart.transforms import ZScore\n",
    "from daart.utils import compute_batch_pad"
   ]
  },
  {
   "cell_type": "markdown",
   "metadata": {},
   "source": [
    "### define data paths"
   ]
  },
  {
   "cell_type": "code",
   "execution_count": null,
   "metadata": {},
   "outputs": [],
   "source": [
    "# choose one experiment for training\n",
    "expt_id = '2019_06_26_fly2'\n",
    "\n",
    "# where data is stored\n",
    "base_dir = os.path.join(os.path.dirname(os.getcwd()), 'data')\n",
    "\n",
    "# where model results will be saved\n",
    "model_save_path = os.path.join(os.path.dirname(os.getcwd()), 'results')\n",
    "\n",
    "# DLC markers\n",
    "markers_file = os.path.join(base_dir, 'markers', expt_id + '_labeled.h5')\n",
    "# heuristic labels\n",
    "labels_file = os.path.join(base_dir, 'labels-heuristic', expt_id + '_labels.pkl')\n",
    "# hand labels\n",
    "hand_labels_file = os.path.join(base_dir, 'labels-hand', expt_id + '_labels.csv')"
   ]
  },
  {
   "cell_type": "markdown",
   "metadata": {},
   "source": [
    "### build data generator"
   ]
  },
  {
   "cell_type": "code",
   "execution_count": null,
   "metadata": {},
   "outputs": [],
   "source": [
    "# define data generator signals\n",
    "signals = ['markers', 'labels_weak', 'labels_strong']\n",
    "transforms = [ZScore(), None, None]\n",
    "paths = [markers_file, labels_file, hand_labels_file]\n",
    "\n",
    "device = 'cuda'  # 'cpu' | 'cuda'\n",
    "batch_pad = 16  # add `batch_pad` data points on either side of batch for convolutions\n",
    "\n",
    "trial_splits = {\n",
    "    'train_tr': 9,\n",
    "    'val_tr': 1,\n",
    "    'test_tr': 0,\n",
    "    'gap_tr': 0\n",
    "}\n",
    "\n",
    "# build data generator\n",
    "data_gen = DataGenerator(\n",
    "    [expt_id], [signals], [transforms], [paths], device=device, batch_size=500, \n",
    "    trial_splits=trial_splits, batch_pad=batch_pad)\n",
    "print(data_gen)"
   ]
  },
  {
   "cell_type": "code",
   "execution_count": null,
   "metadata": {},
   "outputs": [],
   "source": [
    "# see what data generator returns\n",
    "data, dataset = data_gen.next_batch('train')\n",
    "print(data.keys())\n",
    "print()\n",
    "print(data['batch_idx'])\n",
    "print(data['markers'].shape)\n",
    "print(data['labels_weak'].shape)\n",
    "print(data['labels_strong'].shape)"
   ]
  },
  {
   "cell_type": "markdown",
   "metadata": {},
   "source": [
    "### build model"
   ]
  },
  {
   "cell_type": "code",
   "execution_count": null,
   "metadata": {},
   "outputs": [],
   "source": [
    "# define model params\n",
    "hparams = {\n",
    "    'model_type': 'dtcn',\n",
    "    'input_size': 16,       # dimensionality of markers\n",
    "    'output_size': 6,       # number of classes\n",
    "    'n_hid_layers': 2,      # hidden layers in network\n",
    "    'n_hid_units': 32,      # hidden units per hidden layer\n",
    "    'n_lags': 4,            # half-width of temporal convolution window\n",
    "    'activation': 'lrelu',  # layer nonlinearity\n",
    "    'lambda_weak': 1,       # hyperparam on classifying weak (heuristic) labels\n",
    "    'lambda_strong': 0.5,   # hyperparam on classifying strong (hand) labels\n",
    "    'lambda_pred': 0.5,     # hyperparam on one-step-ahead prediction\n",
    "    'batch_pad': batch_pad  # pad batches with extra data for convolutions\n",
    "}\n",
    "\n",
    "# build model\n",
    "model = Segmenter(hparams)\n",
    "model.to(device)\n",
    "print(model)"
   ]
  },
  {
   "cell_type": "markdown",
   "metadata": {},
   "source": [
    "### train model"
   ]
  },
  {
   "cell_type": "code",
   "execution_count": null,
   "metadata": {
    "scrolled": true
   },
   "outputs": [],
   "source": [
    "# define training params\n",
    "train_kwargs = {\n",
    "    'learning_rate': 1e-4,       # adam learning rate\n",
    "    'l2_reg': 0,                 # general l2 reg on parameters\n",
    "    'min_epochs': 10,            # minimum number of training epochs\n",
    "    'max_epochs': 200,          # maximum number of training epochs\n",
    "    'val_check_interval': 1,     # requency with which to log performance on val data\n",
    "    'rng_seed_train': 0,         # control order in which data are served to model\n",
    "    'enable_early_stop': False,  # True to use early stopping; False will use max_epochs\n",
    "    'early_stop_history': 10,    # epochs over which to average early stopping metric\n",
    "    'save_last_model': False,    # true to save out last (as well as best) model\n",
    "}\n",
    "\n",
    "# fit model!\n",
    "model.fit(data_gen, save_path=model_save_path, **train_kwargs)\n",
    "\n",
    "# save training curves\n",
    "plot_training_curves(\n",
    "    os.path.join(model_save_path, 'metrics.csv'), dtype='train', \n",
    "    save_file=os.path.join(model_save_path, 'train_curves'), format='png')\n",
    "plot_training_curves(\n",
    "    os.path.join(model_save_path, 'metrics.csv'), dtype='val', \n",
    "    save_file=os.path.join(model_save_path, 'val_curves'), format='png')"
   ]
  },
  {
   "cell_type": "markdown",
   "metadata": {},
   "source": [
    "### evaluate model"
   ]
  },
  {
   "cell_type": "code",
   "execution_count": null,
   "metadata": {},
   "outputs": [],
   "source": [
    "# load hand labels\n",
    "from numpy import genfromtxt\n",
    "labels = genfromtxt(hand_labels_file, delimiter=',', dtype=np.int, encoding=None)\n",
    "labels = labels[1:, 1:]  # get rid of headers, etc.\n",
    "states = np.argmax(labels, axis=1)\n",
    "\n",
    "# get model predictions for each time point\n",
    "predictions = model.predict_labels(data_gen)['labels']\n",
    "\n",
    "# compute precision and recall for each behavior type\n",
    "scores = get_precision_recall(\n",
    "    states, np.argmax(np.vstack(predictions[0]), axis=1), background=0)"
   ]
  },
  {
   "cell_type": "markdown",
   "metadata": {},
   "source": [
    "### plot results"
   ]
  },
  {
   "cell_type": "code",
   "execution_count": null,
   "metadata": {},
   "outputs": [],
   "source": [
    "class_names = ['still', 'walk', 'front-groom', 'back-groom', 'abdomen-raise']\n",
    "n_classes = len(class_names)\n",
    "\n",
    "# get rid of background class\n",
    "if len(scores['precision']) != len(class_names):\n",
    "    precision = scores['precision'][1:]\n",
    "    recall = scores['recall'][1:]\n",
    "else:\n",
    "    precision = scores['precision']\n",
    "    recall = scores['recall']\n",
    "\n",
    "# plot precision and recall for each class\n",
    "plt.figure(figsize=(5, 5))\n",
    "for n, name in enumerate(class_names):\n",
    "    plt.scatter(precision[n], recall[n], label=name)\n",
    "plt.xlabel('Precision')\n",
    "plt.ylabel('Recall')\n",
    "plt.legend()\n",
    "\n",
    "plt.show()"
   ]
  }
 ],
 "metadata": {
  "kernelspec": {
   "display_name": "daart",
   "language": "python",
   "name": "daart"
  },
  "language_info": {
   "codemirror_mode": {
    "name": "ipython",
    "version": 3
   },
   "file_extension": ".py",
   "mimetype": "text/x-python",
   "name": "python",
   "nbconvert_exporter": "python",
   "pygments_lexer": "ipython3",
   "version": "3.6.13"
  }
 },
 "nbformat": 4,
 "nbformat_minor": 2
}
